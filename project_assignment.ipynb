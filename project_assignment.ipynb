{
 "cells": [
  {
   "cell_type": "markdown",
   "metadata": {},
   "source": [
    "# COM6033 Project Assignment"
   ]
  },
  {
   "cell_type": "markdown",
   "metadata": {},
   "source": [
    "Objective: The goal of this project is to predict the sale prices of houses in Ames, lowa, based on their characteristic and historical data."
   ]
  },
  {
   "cell_type": "code",
   "execution_count": 1,
   "metadata": {},
   "outputs": [
    {
     "name": "stdout",
     "output_type": "stream",
     "text": [
      "Dataset shape: (2930, 82)\n",
      "First few rows of the dataset:\n",
      "   Order        PID  MS SubClass MS Zoning  Lot Frontage  Lot Area Street   \n",
      "0      1  526301100           20        RL         141.0     31770   Pave  \\\n",
      "1      2  526350040           20        RH          80.0     11622   Pave   \n",
      "2      3  526351010           20        RL          81.0     14267   Pave   \n",
      "3      4  526353030           20        RL          93.0     11160   Pave   \n",
      "4      5  527105010           60        RL          74.0     13830   Pave   \n",
      "\n",
      "  Alley Lot Shape Land Contour  ... Pool Area Pool QC  Fence Misc Feature   \n",
      "0   NaN       IR1          Lvl  ...         0     NaN    NaN          NaN  \\\n",
      "1   NaN       Reg          Lvl  ...         0     NaN  MnPrv          NaN   \n",
      "2   NaN       IR1          Lvl  ...         0     NaN    NaN         Gar2   \n",
      "3   NaN       Reg          Lvl  ...         0     NaN    NaN          NaN   \n",
      "4   NaN       IR1          Lvl  ...         0     NaN  MnPrv          NaN   \n",
      "\n",
      "  Misc Val Mo Sold Yr Sold Sale Type  Sale Condition  SalePrice  \n",
      "0        0       5    2010       WD           Normal     215000  \n",
      "1        0       6    2010       WD           Normal     105000  \n",
      "2    12500       6    2010       WD           Normal     172000  \n",
      "3        0       4    2010       WD           Normal     244000  \n",
      "4        0       3    2010       WD           Normal     189900  \n",
      "\n",
      "[5 rows x 82 columns]\n",
      "Statistical summary:\n",
      "            Order           PID  MS SubClass  Lot Frontage       Lot Area   \n",
      "count  2930.00000  2.930000e+03  2930.000000   2440.000000    2930.000000  \\\n",
      "mean   1465.50000  7.144645e+08    57.387372     69.224590   10147.921843   \n",
      "std     845.96247  1.887308e+08    42.638025     23.365335    7880.017759   \n",
      "min       1.00000  5.263011e+08    20.000000     21.000000    1300.000000   \n",
      "25%     733.25000  5.284770e+08    20.000000     58.000000    7440.250000   \n",
      "50%    1465.50000  5.354536e+08    50.000000     68.000000    9436.500000   \n",
      "75%    2197.75000  9.071811e+08    70.000000     80.000000   11555.250000   \n",
      "max    2930.00000  1.007100e+09   190.000000    313.000000  215245.000000   \n",
      "\n",
      "       Overall Qual  Overall Cond   Year Built  Year Remod/Add  Mas Vnr Area   \n",
      "count   2930.000000   2930.000000  2930.000000     2930.000000   2907.000000  \\\n",
      "mean       6.094881      5.563140  1971.356314     1984.266553    101.896801   \n",
      "std        1.411026      1.111537    30.245361       20.860286    179.112611   \n",
      "min        1.000000      1.000000  1872.000000     1950.000000      0.000000   \n",
      "25%        5.000000      5.000000  1954.000000     1965.000000      0.000000   \n",
      "50%        6.000000      5.000000  1973.000000     1993.000000      0.000000   \n",
      "75%        7.000000      6.000000  2001.000000     2004.000000    164.000000   \n",
      "max       10.000000      9.000000  2010.000000     2010.000000   1600.000000   \n",
      "\n",
      "       ...  Wood Deck SF  Open Porch SF  Enclosed Porch   3Ssn Porch   \n",
      "count  ...   2930.000000    2930.000000     2930.000000  2930.000000  \\\n",
      "mean   ...     93.751877      47.533447       23.011604     2.592491   \n",
      "std    ...    126.361562      67.483400       64.139059    25.141331   \n",
      "min    ...      0.000000       0.000000        0.000000     0.000000   \n",
      "25%    ...      0.000000       0.000000        0.000000     0.000000   \n",
      "50%    ...      0.000000      27.000000        0.000000     0.000000   \n",
      "75%    ...    168.000000      70.000000        0.000000     0.000000   \n",
      "max    ...   1424.000000     742.000000     1012.000000   508.000000   \n",
      "\n",
      "       Screen Porch    Pool Area      Misc Val      Mo Sold      Yr Sold   \n",
      "count   2930.000000  2930.000000   2930.000000  2930.000000  2930.000000  \\\n",
      "mean      16.002048     2.243345     50.635154     6.216041  2007.790444   \n",
      "std       56.087370    35.597181    566.344288     2.714492     1.316613   \n",
      "min        0.000000     0.000000      0.000000     1.000000  2006.000000   \n",
      "25%        0.000000     0.000000      0.000000     4.000000  2007.000000   \n",
      "50%        0.000000     0.000000      0.000000     6.000000  2008.000000   \n",
      "75%        0.000000     0.000000      0.000000     8.000000  2009.000000   \n",
      "max      576.000000   800.000000  17000.000000    12.000000  2010.000000   \n",
      "\n",
      "           SalePrice  \n",
      "count    2930.000000  \n",
      "mean   180796.060068  \n",
      "std     79886.692357  \n",
      "min     12789.000000  \n",
      "25%    129500.000000  \n",
      "50%    160000.000000  \n",
      "75%    213500.000000  \n",
      "max    755000.000000  \n",
      "\n",
      "[8 rows x 39 columns]\n",
      "Data types of each column:\n",
      "Order               int64\n",
      "PID                 int64\n",
      "MS SubClass         int64\n",
      "MS Zoning          object\n",
      "Lot Frontage      float64\n",
      "                   ...   \n",
      "Mo Sold             int64\n",
      "Yr Sold             int64\n",
      "Sale Type          object\n",
      "Sale Condition     object\n",
      "SalePrice           int64\n",
      "Length: 82, dtype: object\n"
     ]
    }
   ],
   "source": [
    "import pandas as pd\n",
    "\n",
    "df = pd.read_csv('/Users/dawidfroncisz/Desktop/COM6033_Project_Assignment/AmesHousing.csv')\n",
    "\n",
    "# Dataset function\n",
    "print(\"Dataset shape:\", df.shape)\n",
    "print(\"First few rows of the dataset:\")\n",
    "print(df.head())\n",
    "print(\"Statistical summary:\")\n",
    "print(df.describe())\n",
    "print(\"Data types of each column:\")\n",
    "print(df.dtypes)"
   ]
  },
  {
   "cell_type": "code",
   "execution_count": 2,
   "metadata": {},
   "outputs": [
    {
     "name": "stdout",
     "output_type": "stream",
     "text": [
      "Count of NaN values in each column:\n",
      "Order               0\n",
      "PID                 0\n",
      "MS SubClass         0\n",
      "MS Zoning           0\n",
      "Lot Frontage      490\n",
      "                 ... \n",
      "Mo Sold             0\n",
      "Yr Sold             0\n",
      "Sale Type           0\n",
      "Sale Condition      0\n",
      "SalePrice           0\n",
      "Length: 82, dtype: int64\n"
     ]
    }
   ],
   "source": [
    "# Identifying missing values\n",
    "print(\"Count of NaN values in each column:\")\n",
    "print(df.isnull().sum())"
   ]
  },
  {
   "cell_type": "code",
   "execution_count": 3,
   "metadata": {},
   "outputs": [],
   "source": [
    "# Handling NaN values by filling with the mean (for numerical columns)\n",
    "for col in df.select_dtypes(include=['float64', 'int64']).columns:\n",
    "    df[col].fillna(df[col].mean(), inplace=True)\n"
   ]
  }
 ],
 "metadata": {
  "kernelspec": {
   "display_name": "Python 3.10.8 64-bit",
   "language": "python",
   "name": "python3"
  },
  "language_info": {
   "codemirror_mode": {
    "name": "ipython",
    "version": 3
   },
   "file_extension": ".py",
   "mimetype": "text/x-python",
   "name": "python",
   "nbconvert_exporter": "python",
   "pygments_lexer": "ipython3",
   "version": "3.10.8"
  },
  "vscode": {
   "interpreter": {
    "hash": "aee8b7b246df8f9039afb4144a1f6fd8d2ca17a180786b69acc140d282b71a49"
   }
  }
 },
 "nbformat": 4,
 "nbformat_minor": 4
}
